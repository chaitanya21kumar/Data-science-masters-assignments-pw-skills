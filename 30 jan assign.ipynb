{
 "cells": [
  {
   "cell_type": "markdown",
   "id": "07ac49cb-0337-4cf2-b7b8-c06f25bd4931",
   "metadata": {},
   "source": [
    "```\n",
    "Q1. Write a program to accept percentage from the user and display the grade according to the following criteria: \n",
    "```\n",
    "| Marks           | Grade   |\n",
    "| --------------- | ------- |\n",
    "| >90             | A       |\n",
    "| >80 and <= 90   | B       |\n",
    "| >=60 and <= 80  | C       |\n",
    "| below 60        | D       |\n",
    "\n",
    "\n",
    "\n"
   ]
  },
  {
   "cell_type": "code",
   "execution_count": 5,
   "id": "37a37e67-56e2-45a8-89fb-389679043223",
   "metadata": {},
   "outputs": [
    {
     "name": "stdin",
     "output_type": "stream",
     "text": [
      "enter your marks 55\n"
     ]
    },
    {
     "name": "stdout",
     "output_type": "stream",
     "text": [
      " grade : D \n"
     ]
    }
   ],
   "source": [
    "marks=int(input(\"enter your marks\"))\n",
    "if marks>90 :\n",
    "    print(\" grade : A \")\n",
    "elif marks >80 and marks <=90 :\n",
    "    print(\" grade : B \")\n",
    "elif marks >=60 and marks<=80 :\n",
    "    print(\" grade : C \") \n",
    "elif marks < 60 :\n",
    "    print(\" grade : D \")\n",
    "else : \n",
    "    print(\" please enter a valid input \")"
   ]
  },
  {
   "cell_type": "markdown",
   "id": "843cf9f3-c65c-45af-aef7-be8a184fa92d",
   "metadata": {},
   "source": [
    "```\n",
    "Q2. Write a program to accept the cost price of a bike and display the road tax to be paid according to the following criteria: \n",
    "\n",
    "```\n",
    "| Tax             | Cost Price (In Rs.)   |\n",
    "| --------------- | -------               |\n",
    "| 15%             | > 100000              |\n",
    "| 10%             | > 50000 and <= 100000 |\n",
    "| 5%              | <= 50000              |\n",
    "\n",
    "\n",
    "\n",
    "\n"
   ]
  },
  {
   "cell_type": "code",
   "execution_count": 11,
   "id": "2175c1ae-cdd3-4874-a53c-118f6658f6c9",
   "metadata": {},
   "outputs": [
    {
     "name": "stdin",
     "output_type": "stream",
     "text": [
      " enter the cost price of your bike  40000\n"
     ]
    },
    {
     "name": "stdout",
     "output_type": "stream",
     "text": [
      " road tax : 5% \n"
     ]
    }
   ],
   "source": [
    "cost_price =int(input(\" enter the cost price of your bike \"))\n",
    "if cost_price> 100000:\n",
    "    print(\" road tax : 15% \")\n",
    "elif cost_price>50000 and cost_price<=100000 :\n",
    "    print(\" road tax : 10% \")\n",
    "elif cost_price <= 50000 :\n",
    "    print( \" road tax : 5% \" ) "
   ]
  },
  {
   "cell_type": "markdown",
   "id": "961c70be-b351-4ee1-b6d0-885f531c1f52",
   "metadata": {},
   "source": [
    "```\n",
    "Q3. Accept any city from the user and display monuments of that city.\n",
    "\n",
    "```\n",
    "| City      | Monument  |\n",
    "| --------- | -------   |\n",
    "| Delhi     | Red Fort  |\n",
    "| Agra      | Taj Mahal |\n",
    "| Jaipur    | Jal Mahal |\n"
   ]
  },
  {
   "cell_type": "code",
   "execution_count": 12,
   "id": "4badaf84-09e7-4d10-9b48-620fa0e353dc",
   "metadata": {},
   "outputs": [
    {
     "name": "stdin",
     "output_type": "stream",
     "text": [
      "enter your city name  agra\n"
     ]
    },
    {
     "name": "stdout",
     "output_type": "stream",
     "text": [
      " monument : taj mahal  \n"
     ]
    }
   ],
   "source": [
    "city=input(\"enter your city name \")\n",
    "if city==\"delhi\" :\n",
    "    print(\" monument : red fort \" )\n",
    "elif city==\"agra\" :\n",
    "    print(\" monument : taj mahal  \")\n",
    "elif city==\"jaipur\":\n",
    "    print(\" monument : jal mahal  \")\n",
    "    "
   ]
  },
  {
   "cell_type": "markdown",
   "id": "5b1d2d7d-8e0e-466b-98db-8b9e34614552",
   "metadata": {},
   "source": [
    "```\n",
    "Q4. Check how many times a given number can be divided by 3 before it is less than or equal to 10. \n",
    "\n",
    "```"
   ]
  },
  {
   "cell_type": "code",
   "execution_count": null,
   "id": "dcdb851b-9998-412a-8d6e-48bbe82f66b2",
   "metadata": {},
   "outputs": [],
   "source": []
  },
  {
   "cell_type": "markdown",
   "id": "5b6049d1-993e-4cfa-b21b-4654abddde05",
   "metadata": {},
   "source": [
    "```\n",
    "Q5. Why and When to Use while Loop in Python give a detailed description with example \n",
    "\n",
    "Ans. The while loop in Python is used when you want to repeatedly execute a block of code as long as a certain condition is met. The loop continues to execute as long as the condition is True.\n",
    "\n",
    "For example :\n",
    "```"
   ]
  },
  {
   "cell_type": "code",
   "execution_count": 9,
   "id": "f36bf73f-454b-4a40-bce1-f4fdd5243963",
   "metadata": {},
   "outputs": [
    {
     "name": "stdout",
     "output_type": "stream",
     "text": [
      "10\n",
      "20\n",
      "30\n",
      "40\n",
      "50\n",
      "60\n",
      "70\n",
      "80\n",
      "90\n",
      "100\n"
     ]
    }
   ],
   "source": [
    "\"\"\"   \n",
    " One important thing to note here is , this is an example of while loop which is not infinite because after some time\n",
    " the condition becomes false . In case the condition never becomes false it will be an infinite loop . \n",
    "\"\"\"\n",
    "a=0\n",
    "\n",
    "while a<=90:\n",
    "    a=a+10\n",
    "    print(a)\n"
   ]
  },
  {
   "cell_type": "markdown",
   "id": "c186d550-95f1-4069-ac19-d4902eebd801",
   "metadata": {},
   "source": [
    "```\n",
    "Q6. Use nested while loop to print 3 different pattern. \n",
    "\n",
    "```"
   ]
  },
  {
   "cell_type": "markdown",
   "id": "50d4d0ea-dc2f-4811-8e9d-fb00125872ce",
   "metadata": {},
   "source": [
    "```\n",
    "Q7. Reverse a while loop to display numbers from 10 to 1 \n",
    "```"
   ]
  },
  {
   "cell_type": "code",
   "execution_count": 1,
   "id": "e5262ad2-069a-4d10-9f31-fc594c3eb6e5",
   "metadata": {},
   "outputs": [
    {
     "name": "stdout",
     "output_type": "stream",
     "text": [
      "10\n",
      "9\n",
      "8\n",
      "7\n",
      "6\n",
      "5\n",
      "4\n",
      "3\n",
      "2\n",
      "1\n"
     ]
    }
   ],
   "source": [
    "x=10\n",
    "while x >0:\n",
    "    print(x)\n",
    "    x-=1"
   ]
  },
  {
   "cell_type": "markdown",
   "id": "7f084f54-2cb1-477b-8486-63e543023cd2",
   "metadata": {},
   "source": [
    "```\n",
    "Q8. Reverse a while loop to display numbers from 10 to 1 \n",
    "```"
   ]
  },
  {
   "cell_type": "code",
   "execution_count": null,
   "id": "9d851d0c-6229-4a2e-8742-2fc4baa0c847",
   "metadata": {},
   "outputs": [],
   "source": []
  }
 ],
 "metadata": {
  "kernelspec": {
   "display_name": "Python 3 (ipykernel)",
   "language": "python",
   "name": "python3"
  },
  "language_info": {
   "codemirror_mode": {
    "name": "ipython",
    "version": 3
   },
   "file_extension": ".py",
   "mimetype": "text/x-python",
   "name": "python",
   "nbconvert_exporter": "python",
   "pygments_lexer": "ipython3",
   "version": "3.10.8"
  }
 },
 "nbformat": 4,
 "nbformat_minor": 5
}
